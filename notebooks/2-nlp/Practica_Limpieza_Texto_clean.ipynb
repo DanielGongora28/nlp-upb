{
 "cells": [
  {
   "cell_type": "markdown",
   "id": "a711ba19",
   "metadata": {},
   "source": [
    "#  Practica de limpieza de texto con pandas - Solución"
   ]
  },
  {
   "cell_type": "markdown",
   "id": "76bacb89",
   "metadata": {},
   "source": [
    "#### Por Jose R. Zapata - https://joserzapata.github.io/\n",
    "\n",
    "\n",
    "> **Objetivo**: practicar métodos de `pandas.Series.str` para limpiar y normalizar texto en DataFrames.\n",
    "> Cada ejercicio incluye un **Enunciado** y una celda donde se ve el resultado de la solución.\n",
    "\n",
    "\n",
    "\n",
    "**Referencias:**\n",
    "- Procesamiento básico de texto (curso de NLP): https://joserzapata.github.io/courses/nlp/procesamiento-basico/\n",
    "- Documentación de `pandas.Series.str`: https://pandas.pydata.org/docs/reference/series.html#string-handling\n"
   ]
  },
  {
   "cell_type": "markdown",
   "id": "82900970",
   "metadata": {},
   "source": [
    "## Instalación de dependencias\n",
    "\n",
    "instala e importa las librerias que necesites para ejecutar los ejercicios, por ejemplo para instalar Jupyter usa:\n",
    "\n",
    "```bash\n",
    "uv add jupyter\n",
    "```\n"
   ]
  },
  {
   "cell_type": "code",
   "execution_count": null,
   "id": "9d5c390f",
   "metadata": {},
   "outputs": [
    {
     "ename": "",
     "evalue": "",
     "output_type": "error",
     "traceback": [
      "\u001b[1;31mNo se pudo iniciar el kernel porque el entorno de Python \"template-data-science-container (Python -1.-1.-1)\" ya no está disponible. Considere la posibilidad de seleccionar otro kernel o de actualizar la lista de entornos de Python."
     ]
    }
   ],
   "source": [
    "# Copie su código aca\n"
   ]
  },
  {
   "cell_type": "code",
   "execution_count": null,
   "id": "7f835e80",
   "metadata": {},
   "outputs": [],
   "source": [
    "import pandas as pd\n",
    "import numpy as np\n",
    "import re"
   ]
  },
  {
   "cell_type": "markdown",
   "id": "d521aa48",
   "metadata": {},
   "source": [
    "## Conjuntos de datos de juguete\n",
    "Creamos 4 DataFrames para practicar distintas tareas de limpieza: texto general, tweets, productos y personas."
   ]
  },
  {
   "cell_type": "code",
   "execution_count": null,
   "id": "1e7de665",
   "metadata": {},
   "outputs": [],
   "source": [
    "## Texto general\n",
    "df_texto = pd.DataFrame(\n",
    "    {\n",
    "        \"texto\": [\n",
    "            \"  ¡Hola Mundo!!!  Esto es   un EJEMPLO: visita https://miweb.com  #DataScience  :)  \",\n",
    "            \"Pandas > numpy? 🤔  Email: persona@example.com   \",\n",
    "            \"Me gusta el café colombiano; es buenísimo!!! #Café #Colombia @juan\",\n",
    "            \"Oferta!!! 3x2 en jabón líquido 500ml - CÓDIGO: A-123\",\n",
    "            \"      TABLAS\\t, \\n espacios   y saltos de línea.\\r\\n\",\n",
    "            \"Teléfono: (57) 300-123-45-67; Whatsapp +57 300 222 33 44\",\n",
    "            \"Dirección: Cll 10 # 5-20; Medellín. Barrio: La América\",\n",
    "            \"Emoji test: 😀🙌🏽🏳️‍🌈, símbolos ©®™ y otros…\",\n",
    "        ]\n",
    "    }\n",
    ")\n",
    "\n",
    "## Tweets\n",
    "df_tweets = pd.DataFrame(\n",
    "    {\n",
    "        \"tweet\": [\n",
    "            \"RT @maria: Nuevo post en el blog -> http://blog.com/post?id=45 #nlp #python\",\n",
    "            \"¡Me encanta Pandas! #datos #Python https://example.org @data_science 😊\",\n",
    "            \"Probando cosas en Jupyter... sin link ni hashtag\",\n",
    "            \"@juan y @ana lanzaron curso de NLP en https://cursos.ai #nlp #ml\",\n",
    "            \"¿Pandas o Polars? debátanlo aquí 👉 https://foro.com #data\",\n",
    "        ]\n",
    "    }\n",
    ")\n",
    "\n",
    "## Productos y precios\n",
    "df_productos = pd.DataFrame(\n",
    "    {\n",
    "        \"producto\": [\n",
    "            \"Camisa talla M\",\n",
    "            \"Pantalón-XL\",\n",
    "            \"Zapato, Talla: 42\",\n",
    "            \"Blusa s\",\n",
    "            \"Medias 10-12\",\n",
    "            \"Polo Talla l\",\n",
    "            \"Vestido - 36\",\n",
    "            \"Sombrero (talla Única)\",\n",
    "        ],\n",
    "        \"precio\": [\n",
    "            \"$1.234,50\",\n",
    "            \"USD 45\",\n",
    "            \"30,00 €\",\n",
    "            \"25.000\",\n",
    "            \"$ 0\",\n",
    "            \"S/. 120.90\",\n",
    "            \"COP 9.990\",\n",
    "            \"AR$ 2.550,00\",\n",
    "        ],\n",
    "    }\n",
    ")\n",
    "\n",
    "## Personas, respuestas y direcciones\n",
    "df_personas = pd.DataFrame(\n",
    "    {\n",
    "        \"nombre\": [\n",
    "            \"ana María LOPEZ\",\n",
    "            \"Juan  perez\",\n",
    "            \"Ñandú   Gómez\",\n",
    "            \"Miguel (Soporte)\",\n",
    "            \"  MÓNICA de la CRUZ  \",\n",
    "            \"luis-delgado\",\n",
    "        ],\n",
    "        \"categoria\": [\"Sí\", \"si\", \"SI \", \"No\", \"—\", None],\n",
    "        \"direccion\": [\n",
    "            \"Calle 45 # 12-34, Bogotá\",\n",
    "            \"Av. Siempre Viva 742 - Lima\",\n",
    "            \"Cll. 10 No. 5-20 Medellín\",\n",
    "            \"Cra 7a # 45-60, Bogotá\",\n",
    "            \"Av. 9 #12-34  Cali\",\n",
    "            \"Av. Insurgentes Sur 1234, CDMX\",\n",
    "        ],\n",
    "        \"id_raw\": [\n",
    "            \"abc-0001\",\n",
    "            \"abc 001\",\n",
    "            \"ABC0002\",\n",
    "            \"Abc_003\",\n",
    "            \"abc-00004\",\n",
    "            \"ABC-0005\",\n",
    "        ],\n",
    "    }\n",
    ")"
   ]
  },
  {
   "cell_type": "code",
   "execution_count": null,
   "id": "c8fe0103",
   "metadata": {},
   "outputs": [],
   "source": [
    "print(\"df_texto:\")\n",
    "display(df_texto)\n",
    "print(\"\\ndf_tweets:\")\n",
    "display(df_tweets)\n",
    "print(\"\\ndf_productos:\")\n",
    "display(df_productos)\n",
    "print(\"\\ndf_personas:\")\n",
    "display(df_personas)\n"
   ]
  },
  {
   "cell_type": "markdown",
   "id": "323ad06f",
   "metadata": {},
   "source": [
    "## Inspección rápida"
   ]
  },
  {
   "cell_type": "markdown",
   "id": "0a4687cd",
   "metadata": {},
   "source": [
    "- Explora los cuatro DataFrames\n",
    "- Identifica qué columnas requieren **limpieza textual** y por qué (espacios, acentos, emojis, URLs, etc.).\n",
    "- Escribe un breve comentario (como comentario en la celda) con tus observaciones."
   ]
  },
  {
   "cell_type": "code",
   "execution_count": null,
   "id": "f3685c33",
   "metadata": {},
   "outputs": [],
   "source": [
    "# Copie su código aca\n",
    "df_texto.info()\n",
    "df_tweets.info()\n",
    "df_productos.info()\n",
    "df_personas.info()"
   ]
  },
  {
   "cell_type": "code",
   "execution_count": null,
   "id": "c619bf3c",
   "metadata": {},
   "outputs": [],
   "source": []
  },
  {
   "cell_type": "markdown",
   "id": "3dcd8e24",
   "metadata": {},
   "source": [
    "## 1) Normaliza a minúsculas"
   ]
  },
  {
   "cell_type": "markdown",
   "id": "ac5524f2",
   "metadata": {},
   "source": [
    "En el DataFrame `df_texto`, crea una nueva columna `texto_min` que contenga el texto de la columna `texto` en minúsculas."
   ]
  },
  {
   "cell_type": "code",
   "execution_count": null,
   "id": "aea376dd",
   "metadata": {},
   "outputs": [],
   "source": [
    "# Copie su código aca\n",
    "df_texto[\"texto_min\"] = df_texto[\"texto\"].str.lower()\n",
    "display(df_texto)"
   ]
  },
  {
   "cell_type": "code",
   "execution_count": null,
   "id": "20ae9e56",
   "metadata": {},
   "outputs": [],
   "source": []
  },
  {
   "cell_type": "markdown",
   "id": "da8780c8",
   "metadata": {},
   "source": [
    "## 2) Eliminar Espacios"
   ]
  },
  {
   "cell_type": "markdown",
   "id": "8a2d800d",
   "metadata": {},
   "source": [
    "Genera  la columna `texto_espacios` eliminando espacios al inicio/fin"
   ]
  },
  {
   "cell_type": "code",
   "execution_count": null,
   "id": "29d99ddd",
   "metadata": {},
   "outputs": [],
   "source": [
    "# Copie su código aca\n",
    "df_texto[\"texto_espacios\"] = df_texto[\"texto_min\"].str.strip()\n",
    "display(df_texto)"
   ]
  },
  {
   "cell_type": "code",
   "execution_count": null,
   "id": "b6484565",
   "metadata": {},
   "outputs": [],
   "source": []
  },
  {
   "cell_type": "markdown",
   "id": "c4910aaa",
   "metadata": {},
   "source": [
    "## 3) Puntuación"
   ]
  },
  {
   "cell_type": "markdown",
   "id": "b1fef3aa",
   "metadata": {},
   "source": [
    "Crea `texto_sin_punct` removiendo puntuación y símbolos, conservando letras y espacios."
   ]
  },
  {
   "cell_type": "code",
   "execution_count": null,
   "id": "91d0ea49",
   "metadata": {},
   "outputs": [],
   "source": [
    "# Copie su código aca\n",
    "df_texto[\"texto_sin_punct\"] = df_texto[\"texto_espacios\"].str.replace(\n",
    "    r\"[^\\w\\s]\", \"\", regex=True\n",
    ")\n",
    "display(df_texto)"
   ]
  },
  {
   "cell_type": "code",
   "execution_count": null,
   "id": "22cb5935",
   "metadata": {},
   "outputs": [],
   "source": [
    "df_texto[\"texto_sin_punct\"]"
   ]
  },
  {
   "cell_type": "markdown",
   "id": "711bf80f",
   "metadata": {},
   "source": [
    "## 4) Acentos"
   ]
  },
  {
   "cell_type": "markdown",
   "id": "72a086e0",
   "metadata": {},
   "source": [
    "Elimina los acentos de las vocales del texto `df_texto` y grábalo en una nueva columna `texto_sin_acentos`."
   ]
  },
  {
   "cell_type": "code",
   "execution_count": null,
   "id": "fefd04c8",
   "metadata": {},
   "outputs": [],
   "source": [
    "# Copie su código aca\n",
    "df_texto[\"texto_sin_acentos\"] = df_texto[\"texto_sin_punct\"].replace(\n",
    "    {\"á\": \"a\", \"é\": \"e\", \"í\": \"i\", \"ó\": \"o\", \"ú\": \"u\", \"ü\": \"u\"}, regex=True\n",
    ")\n",
    "display(df_texto)"
   ]
  },
  {
   "cell_type": "code",
   "execution_count": null,
   "id": "3f4eeddb",
   "metadata": {},
   "outputs": [],
   "source": []
  },
  {
   "cell_type": "markdown",
   "id": "9905666e",
   "metadata": {},
   "source": [
    "## 5) Emojis"
   ]
  },
  {
   "cell_type": "markdown",
   "id": "8a5a918e",
   "metadata": {},
   "source": [
    "Crear la columna `texto_sin_emoji` quitando emojis, pictogramas y símbolos gráficos comunes."
   ]
  },
  {
   "cell_type": "code",
   "execution_count": null,
   "id": "67f975bc",
   "metadata": {},
   "outputs": [],
   "source": [
    "# Copie su código aca\n",
    "df_texto[\"texto_sin_emojis\"] = df_texto[\"texto_sin_acentos\"].str.replace(\n",
    "    r\"[^\\x00-\\x7F]+\", \"\", regex=True\n",
    ")\n",
    "df_texto[\"texto_sin_emojis\"]"
   ]
  },
  {
   "cell_type": "code",
   "execution_count": null,
   "id": "21fef20d",
   "metadata": {},
   "outputs": [],
   "source": []
  },
  {
   "cell_type": "markdown",
   "id": "726ece5e",
   "metadata": {},
   "source": [
    "## 6) Extrae emails y URLs"
   ]
  },
  {
   "cell_type": "markdown",
   "id": "58b3c9a9",
   "metadata": {},
   "source": [
    "En `df_texto`, crea las columnas `email` y `urls` extrayendo emails y URLs del texto original.\n",
    "\n",
    "**Patrones sugeridos:**\n",
    "- Email: `[A-Za-z0-9_.+-]+@[A-Za-z0-9-]+\\.[A-Za-z0-9.-]+`\n",
    "- URL: `https?://\\S+`"
   ]
  },
  {
   "cell_type": "code",
   "execution_count": null,
   "id": "f345938d",
   "metadata": {},
   "outputs": [],
   "source": [
    "# Copie su código aca\n",
    "df_texto[\"email\"] = df_texto[\"texto\"].str.findall(\n",
    "    r\"[A-Za-z0-9_.+-]+@[A-Za-z0-9-]+\\.[A-Za-z0-9.-]+\"\n",
    ")\n",
    "df_texto[\"url\"] = df_texto[\"texto\"].str.findall(r\"https?://\\S+\")"
   ]
  },
  {
   "cell_type": "code",
   "execution_count": null,
   "id": "4679634d",
   "metadata": {},
   "outputs": [],
   "source": [
    "display(df_texto[[\"texto\", \"email\", \"url\"]])"
   ]
  },
  {
   "cell_type": "code",
   "execution_count": null,
   "id": "373d8e56",
   "metadata": {},
   "outputs": [],
   "source": []
  },
  {
   "cell_type": "markdown",
   "id": "b78960f7",
   "metadata": {},
   "source": [
    "## 7) Hashtags, menciones y URLs en tweets"
   ]
  },
  {
   "cell_type": "markdown",
   "id": "5a132f38",
   "metadata": {},
   "source": [
    "En `df_tweets`, crea las columnas `hashtags`, `mentions` y `urls`\n",
    "extrayendo hashtags, menciones y URLs del texto del tweet."
   ]
  },
  {
   "cell_type": "code",
   "execution_count": null,
   "id": "2dd3ec83",
   "metadata": {},
   "outputs": [],
   "source": [
    "# Copie su código aca\n",
    "\n",
    "df_tweets[\"hashtag\"] = df_tweets[\"tweet\"].str.findall(\n",
    "    r\"(#\\w+)\" \n",
    ")\n",
    "df_tweets[\"mentions\"] = df_tweets[\"tweet\"].str.findall(r\"(@\\w+)\")\n",
    "df_tweets[\"urls\"] = df_tweets[\"tweet\"].str.findall(r\"https?://\\S+\")"
   ]
  },
  {
   "cell_type": "code",
   "execution_count": null,
   "id": "7ce0a651",
   "metadata": {},
   "outputs": [],
   "source": [
    "df_tweets"
   ]
  },
  {
   "cell_type": "code",
   "execution_count": null,
   "id": "1d1ba4db",
   "metadata": {},
   "outputs": [],
   "source": []
  },
  {
   "cell_type": "markdown",
   "id": "974ad5b7",
   "metadata": {},
   "source": [
    "## 8) ¿Es retuit? Limpia el prefijo"
   ]
  },
  {
   "cell_type": "markdown",
   "id": "4404ac79",
   "metadata": {},
   "source": [
    "Crea la columna `es_rt` (booleano) si el tweet comienza con `RT`. Luego genera la columna `tweet_sin_rt` quitando el prefijo `RT @usuario:` del inicio."
   ]
  },
  {
   "cell_type": "code",
   "execution_count": null,
   "id": "0a34b64f",
   "metadata": {},
   "outputs": [],
   "source": [
    "# Copie su código aca\n",
    "df_tweets['es_rt']=[True if tweet.startswith(\"RT \") else False for tweet in df_tweets['tweet']]\n",
    "df_tweets['tweet_sin_rt']=df_tweets['tweet'].str.replace(r\"^RT @\\w+: \",\"\",regex=True)"
   ]
  },
  {
   "cell_type": "code",
   "execution_count": null,
   "id": "b61c6acb",
   "metadata": {},
   "outputs": [],
   "source": [
    "df_tweets"
   ]
  },
  {
   "cell_type": "code",
   "execution_count": null,
   "id": "613c02de",
   "metadata": {},
   "outputs": [],
   "source": [
    "df_tweets"
   ]
  },
  {
   "cell_type": "code",
   "execution_count": null,
   "id": "d2f3bc54",
   "metadata": {},
   "outputs": [],
   "source": []
  },
  {
   "cell_type": "markdown",
   "id": "f65db207",
   "metadata": {},
   "source": [
    "## 9) `tweet_limpio`"
   ]
  },
  {
   "cell_type": "markdown",
   "id": "c8007258",
   "metadata": {},
   "source": [
    "Crea `tweet_limpio` removiendo URLs, menciones y hashtags; además, elimina la puntuación sobrante, quita espacios y pasa a minúsculas."
   ]
  },
  {
   "cell_type": "code",
   "execution_count": null,
   "id": "45f27bc6",
   "metadata": {},
   "outputs": [],
   "source": [
    "# Copie su código aca\n",
    "df_tweets['tweet_limpio']=df_tweets['tweet_sin_rt'].str.lower().replace(r\"(#\\w+)|(@\\w+)|(https?://\\S+)|([^\\x00-\\x7F]+)|([^\\w\\s])\",\"\",regex=True).str.strip()"
   ]
  },
  {
   "cell_type": "code",
   "execution_count": null,
   "id": "4f22cb11",
   "metadata": {},
   "outputs": [],
   "source": [
    "df_tweets[['tweet','tweet_limpio']]"
   ]
  },
  {
   "cell_type": "code",
   "execution_count": null,
   "id": "948b1a4a",
   "metadata": {},
   "outputs": [],
   "source": []
  },
  {
   "cell_type": "markdown",
   "id": "10136097",
   "metadata": {},
   "source": [
    "## 10) Talla en `df_productos`"
   ]
  },
  {
   "cell_type": "markdown",
   "id": "e35f2f86",
   "metadata": {},
   "source": [
    "Extrae y estandariza la talla:\n",
    "- Letras: `XS, S, M, L, XL, XXL`, o `TU` (talla única).\n",
    "- Números: captura como `talla_num`.\n",
    "Crea la columna`talla_std` (letras) y `talla_num` (numérica)."
   ]
  },
  {
   "cell_type": "code",
   "execution_count": null,
   "id": "83700400",
   "metadata": {},
   "outputs": [],
   "source": [
    "# Copie su código aca\n",
    "def extraer_talla(producto):\n",
    "    if pd.isna(producto):\n",
    "        return None, None\n",
    "\n",
    "    producto_str = str(producto).upper()\n",
    "    producto_str = producto_str.replace(\"ÚNICA\", \"UNICA\")  # normalizar acento\n",
    "\n",
    "    patron_letra = r\"\\b(XS|S|M|L|XL|XXL|UNICA)\\b\"\n",
    "    patron_numero = r\"\\b\\d+(?:-\\d+)?\\b\"\n",
    "\n",
    "    # buscar talla por letra\n",
    "    m_letra = re.search(patron_letra, producto_str)\n",
    "    if m_letra:\n",
    "        talla = m_letra.group()\n",
    "        if talla == \"UNICA\":\n",
    "            return \"TU\", None\n",
    "        return talla, None\n",
    "    # buscar talla numérica\n",
    "    m_num = re.search(patron_numero, producto_str)\n",
    "    if m_num:\n",
    "        num = m_num.group()\n",
    "        if \"-\" in num:  # rango como \"10-12\" -> tomar primer número\n",
    "            num = num.split(\"-\")[0]\n",
    "        try:\n",
    "            return None, int(num)\n",
    "        except ValueError:\n",
    "            return None, None\n",
    "\n",
    "    return None, None\n",
    "\n",
    "pd.set_option(\"display.max_colwidth\", None)\n",
    "pd.set_option(\"display.max_rows\", None)\n",
    "\n",
    "df_productos[[\"talla_std\", \"talla_num\"]] = (\n",
    "    df_productos[\"producto\"].apply(extraer_talla).apply(pd.Series)\n",
    ")\n",
    "\n",
    "display(df_productos)"
   ]
  },
  {
   "cell_type": "code",
   "execution_count": null,
   "id": "958eeea1",
   "metadata": {},
   "outputs": [],
   "source": [
    "# Copie su código aca\n",
    "# Extract standard sizes (XS, S, M, L, XL, XXL, TU)\n",
    "df_productos['talla_std'] = df_productos['producto'].str.extract(r\"(?i)\\b(XXL|XL|L|M|S|TU|TALLA UNICA|TALLA ÚNICA)\\b\")\n",
    "df_productos['talla_std'] = df_productos['talla_std'].replace(\n",
    "    {\n",
    "        r\"(?i)^talla unica$\": \"TU\",\n",
    "        r\"(?i)^talla única$\": \"TU\"\n",
    "    },\n",
    "    regex=True\n",
    ")\n",
    "# Extract numeric sizes\n",
    "df_productos['talla_num'] = df_productos['producto'].str.extract(\n",
    "    r'(\\d+)(?=\\s*$|\\s*[,\\)])'\n",
    ")\n",
    "\n",
    "\n",
    "# Clean up standard sizes\n",
    "df_productos['talla_std'] = df_productos['talla_std'].str.upper().str.strip()\n",
    "df_productos['talla_std'] = df_productos['talla_std']\n",
    "\n",
    "display(df_productos[['producto', 'talla_std', 'talla_num']])"
   ]
  },
  {
   "cell_type": "code",
   "execution_count": null,
   "id": "91d5430b",
   "metadata": {},
   "outputs": [],
   "source": []
  },
  {
   "cell_type": "markdown",
   "id": "9bf0f421",
   "metadata": {},
   "source": [
    "## 11) Extraer de precios"
   ]
  },
  {
   "cell_type": "markdown",
   "id": "57bce2c0",
   "metadata": {},
   "source": [
    "Convierte la columna `precio` a numérico (`precio_num`) independiente del formato (`$1.234,50`, `USD 45`, `30,00 €`, `COP 9.990`, etc.)."
   ]
  },
  {
   "cell_type": "code",
   "execution_count": null,
   "id": "5a3483ad",
   "metadata": {},
   "outputs": [],
   "source": [
    "# Copie su código aca\n",
    "def extraer_precio(precio):\n",
    "    if pd.isna(precio):\n",
    "        return None\n",
    "\n",
    "    precio = str(precio)\n",
    "\n",
    "    nums = re.findall(r\"[\\d.,]+\", precio)\n",
    "    if not nums:\n",
    "        return None\n",
    "\n",
    "    num = nums[-1]\n",
    "\n",
    "    if \",\" in num and \".\" in num:\n",
    "        num = num.replace(\".\", \"\").replace(\",\", \".\")\n",
    "    elif \",\" in num:\n",
    "        if len(num.split(\",\")[1]) == 2:\n",
    "            # Es decimal (1,23)\n",
    "            num = num.replace(\",\", \".\")\n",
    "        else:\n",
    "            # Es separador de miles (1,234)\n",
    "            num = num.replace(\",\", \"\")\n",
    "\n",
    "    # Convertir a float\n",
    "    try:\n",
    "        return float(num)\n",
    "    except:\n",
    "        return None\n",
    "\n",
    "# Convertir precios\n",
    "df_productos[\"precio_num\"] = df_productos[\"precio\"].apply(extraer_precio)\n",
    "display(df_productos)"
   ]
  },
  {
   "cell_type": "code",
   "execution_count": null,
   "id": "3aa405ee",
   "metadata": {},
   "outputs": [],
   "source": []
  },
  {
   "cell_type": "markdown",
   "id": "0dd72cc3",
   "metadata": {},
   "source": [
    "## 12) Filtrado por texto"
   ]
  },
  {
   "cell_type": "markdown",
   "id": "c2bd482a",
   "metadata": {},
   "source": [
    "Filtra el DataFrame `df_productos` para mostrar solo filas cuyo `producto` contenga **camisa** o **pantalón**, ignorando acentos y mayúsculas/minúsculas."
   ]
  },
  {
   "cell_type": "code",
   "execution_count": null,
   "id": "77440f4d",
   "metadata": {},
   "outputs": [],
   "source": []
  },
  {
   "cell_type": "code",
   "execution_count": null,
   "id": "666ec13e",
   "metadata": {},
   "outputs": [],
   "source": [
    "# Copie su código aca\n",
    "df_productos[df_productos['producto'].replace(\n",
    "    {\"á\": \"a\", \"é\": \"e\", \"í\": \"i\", \"ó\": \"o\", \"ú\": \"u\", \"ü\": \"u\"}, regex=True\n",
    ").str.contains(r'(?i)(camisa|pantalon)')]"
   ]
  },
  {
   "cell_type": "code",
   "execution_count": null,
   "id": "93eee3ec",
   "metadata": {},
   "outputs": [],
   "source": []
  },
  {
   "cell_type": "markdown",
   "id": "dd80eace",
   "metadata": {},
   "source": [
    "## 13) Limpieza de nombres propios"
   ]
  },
  {
   "cell_type": "markdown",
   "id": "2ce4e997",
   "metadata": {},
   "source": [
    "En el DataFrame `df_personas`, crea `nombre_limpio` en `df_personas`:\n",
    "- Quita paréntesis y su contenido.\n",
    "- Reemplaza guiones por espacio y elimina espacios extra.\n",
    "- Aplica *title case* y conserva conectores (`de`, `del`, `la`, `y`) en minúscula."
   ]
  },
  {
   "cell_type": "code",
   "execution_count": null,
   "id": "76262d60",
   "metadata": {},
   "outputs": [],
   "source": [
    "# Copie su código aca\n",
    "def clean_name(nombre):\n",
    "    if pd.isna(nombre):\n",
    "        return nombre\n",
    "\n",
    "    # Lista de conectores que se deben conservar\n",
    "    conectores = [\"de\", \"del\", \"la\", \"y\"]\n",
    "\n",
    "    # Quitar paréntesis y su contenido\n",
    "    nombre = re.sub(r\"\\([^)]*\\)\", \"\", nombre)\n",
    "\n",
    "    # Reemplazar guiones por espacios\n",
    "    nombre = nombre.replace(\"-\", \" \")\n",
    "\n",
    "    # Eliminar espacios múltiples y espacios a los extremos\n",
    "    nombre = re.sub(r\"\\s+\", \" \", nombre).strip()\n",
    "\n",
    "    # Aplicar title case (Primer Nombre en Minusculas)\n",
    "    palabras = nombre.title().split()\n",
    "\n",
    "    # Poner conectores en minúscula\n",
    "    palabras = [\n",
    "        palabra.lower() if palabra.lower() in conectores else palabra\n",
    "        for palabra in palabras\n",
    "    ]\n",
    "\n",
    "    # Unir lista de palabras\n",
    "    return \" \".join(palabras)\n",
    "\n",
    "# Crear columna resultado\n",
    "df_personas[\"nombre_limpio\"] = df_personas[\"nombre\"].apply(clean_name)\n",
    "\n",
    "display(df_personas[[\"nombre\",\"nombre_limpio\"]])"
   ]
  },
  {
   "cell_type": "code",
   "execution_count": null,
   "id": "b23ad68f",
   "metadata": {},
   "outputs": [],
   "source": [
    "df_personas[\"nombre_limpio\"]"
   ]
  },
  {
   "cell_type": "code",
   "execution_count": null,
   "id": "1b146050",
   "metadata": {},
   "outputs": [],
   "source": []
  },
  {
   "cell_type": "markdown",
   "id": "6bd0fd22",
   "metadata": {},
   "source": [
    "## 14) Normaliza respuestas categóricas"
   ]
  },
  {
   "cell_type": "markdown",
   "id": "ba4d3e48",
   "metadata": {},
   "source": [
    "En el DataFrame `df_personas`, convierte `categoria` en booleano `categoria_bool` donde cualquier variante de **sí** (con/ sin tilde) sea `True`; el resto `False`."
   ]
  },
  {
   "cell_type": "code",
   "execution_count": null,
   "id": "5d612e7f",
   "metadata": {},
   "outputs": [],
   "source": [
    "# Copie su código aca\n",
    "patron = r\"^(sí|si|s|1|true|verdadero)$\"\n",
    "\n",
    "# Crear columna booleana (True si coincide, False si no)\n",
    "df_personas[\"categoria_bool\"] = df_personas[\"categoria\"].str.lower().str.strip().str.match(patron, case=False, na=False)\n",
    "\n",
    "df_personas"
   ]
  },
  {
   "cell_type": "code",
   "execution_count": null,
   "id": "71b4a614",
   "metadata": {},
   "outputs": [],
   "source": []
  },
  {
   "cell_type": "markdown",
   "id": "42ce12b1",
   "metadata": {},
   "source": [
    "## 15) Ciudad desde la dirección"
   ]
  },
  {
   "cell_type": "markdown",
   "id": "78a3b10b",
   "metadata": {},
   "source": [
    "En el DataFrame `df_personas`, Extrae la **ciudad** en una columna `ciudad`"
   ]
  },
  {
   "cell_type": "code",
   "execution_count": null,
   "id": "78d80338",
   "metadata": {},
   "outputs": [],
   "source": [
    "df_personas[\"direccion\"].str.split()"
   ]
  },
  {
   "cell_type": "code",
   "execution_count": null,
   "id": "95b7fb8b",
   "metadata": {},
   "outputs": [],
   "source": [
    "# Copie su código aca\n",
    "df_personas[\"ciudad\"]=df_personas[\"direccion\"].apply(lambda x: x.split()[-1])\n",
    "df_personas"
   ]
  },
  {
   "cell_type": "code",
   "execution_count": null,
   "id": "b066c8c9",
   "metadata": {},
   "outputs": [],
   "source": []
  },
  {
   "cell_type": "markdown",
   "id": "a596654f",
   "metadata": {},
   "source": [
    "## 16) Normaliza y valida IDs"
   ]
  },
  {
   "cell_type": "markdown",
   "id": "6e76fa14",
   "metadata": {},
   "source": [
    "En el DataFrame `df_personas`, a partir de `id_raw`, crea la columna `id_norm` con formato `ABC-0001` (tres letras + guion + 4 dígitos) y `id_valido` (True/False)."
   ]
  },
  {
   "cell_type": "code",
   "execution_count": null,
   "id": "40b9bfd5",
   "metadata": {},
   "outputs": [],
   "source": [
    "# Copie su código aca\n",
    "def normalizar_id(id_raw):\n",
    "    if pd.isna(id_raw):\n",
    "        return None, False\n",
    "    s = str(id_raw)\n",
    "    letras = \"\".join(re.findall(r\"[A-Za-z]\", s)).upper()\n",
    "    nums_m = re.search(r\"(\\d+)\",s)\n",
    "    num = int(nums_m.group(1))\n",
    "    num_cadena = str(num).zfill(4)\n",
    "    id_norm = f\"{letras}-{num_cadena}\"\n",
    "    return id_norm\n",
    "\n",
    "df_personas[\"id_norm\"] = df_personas[\"id_raw\"].apply(lambda x: normalizar_id(x))"
   ]
  },
  {
   "cell_type": "code",
   "execution_count": null,
   "id": "804a92e9",
   "metadata": {},
   "outputs": [],
   "source": [
    "df_personas"
   ]
  },
  {
   "cell_type": "code",
   "execution_count": null,
   "id": "fb0a649f",
   "metadata": {},
   "outputs": [],
   "source": [
    "# Copie su código aca\n",
    "regex_valid_id=r\"^[A-Z]{3}-\\d{4}$\"\n",
    "\n",
    "df_personas[\"id_valido\"] = df_personas[\"id_norm\"].str.match(regex_valid_id, case=False, na=False)\n"
   ]
  },
  {
   "cell_type": "code",
   "execution_count": null,
   "id": "6e23ac53",
   "metadata": {},
   "outputs": [],
   "source": [
    "df_personas[[\"id_raw\",\"id_norm\",\"id_valido\"]]"
   ]
  },
  {
   "cell_type": "code",
   "execution_count": null,
   "id": "40bc0154",
   "metadata": {},
   "outputs": [],
   "source": []
  },
  {
   "cell_type": "markdown",
   "id": "d324c8b4",
   "metadata": {},
   "source": [
    "## 17) Mini *pipeline* de limpieza general"
   ]
  },
  {
   "cell_type": "markdown",
   "id": "dbd2920e",
   "metadata": {},
   "source": [
    "Escribe una función `limpia_basica(s)` que: ponga el texto en minuscula, quite acentos, URLs, menciones y hashtags, puntuación, dígitos y colapse espacios. Aplícala a `df_texto['texto']` y guarda en `texto_limpio_final`."
   ]
  },
  {
   "cell_type": "code",
   "execution_count": null,
   "id": "df270d15",
   "metadata": {},
   "outputs": [],
   "source": [
    "# Copie su código aca\n",
    "def limpia_basica(s):\n",
    "    if pd.isna(s):\n",
    "        return s\n",
    "    # Convertir a minúsculas\n",
    "    s = str(s).lower()\n",
    "    # Eliminar espacios en los extremos y múltiples espacios\n",
    "    s = re.sub(r\"\\s+\", \" \", s).strip()\n",
    "    # Reemplazar acentos\n",
    "    s = s.replace(\"á\", \"a\").replace(\"é\", \"e\").replace(\"í\", \"i\").replace(\"ó\", \"o\").replace(\"ú\", \"u\").replace(\"ü\", \"u\")\n",
    "    #Eliminar URLs\n",
    "    s = re.sub(r\"https?://\\S+\", \"\", s)\n",
    "    #Eliminar  menciones (@text)\n",
    "    s = re.sub(r\"@\\w+\", \"\", s)\n",
    "    #Eliminar hashtags (#text)\n",
    "    s = re.sub(r\"#\\w+\", \"\", s)\n",
    "    #Eliminar signos de puntuacion y emojis\n",
    "    s = re.sub(r\"[^\\x00-\\x7F]+\", \"\", s)\n",
    "    #Eliminar digitos\n",
    "    s = re.sub(r\"\\d+\", \"\", s)\n",
    "    # Eliminar caracteres especiales\n",
    "    s = re.sub(r\"[^\\w\\s]\", \"\", s)\n",
    "    return s"
   ]
  },
  {
   "cell_type": "code",
   "execution_count": null,
   "id": "5e87ebca",
   "metadata": {},
   "outputs": [],
   "source": [
    "df_texto['texto_limpio_final'] = df_texto['texto'].apply(limpia_basica)"
   ]
  },
  {
   "cell_type": "code",
   "execution_count": null,
   "id": "34b5fab9",
   "metadata": {},
   "outputs": [],
   "source": [
    "df_texto"
   ]
  },
  {
   "cell_type": "code",
   "execution_count": null,
   "id": "8d8f9f79",
   "metadata": {},
   "outputs": [],
   "source": []
  },
  {
   "cell_type": "markdown",
   "id": "721bca89",
   "metadata": {},
   "source": [
    "## 18)¿Qué tanto cambió el texto?"
   ]
  },
  {
   "cell_type": "markdown",
   "id": "4284174d",
   "metadata": {},
   "source": [
    "En el dataframe `df_texto`, \n",
    "\n",
    "Cual es la diferencia entre la longitud original (`len_raw`) y la longitud tras la limpieza (`len_clean`)?"
   ]
  },
  {
   "cell_type": "code",
   "execution_count": null,
   "id": "9c0c279b",
   "metadata": {},
   "outputs": [],
   "source": [
    "# Copie su código aca\n",
    "df_texto[\"len_raw\"] = df_texto[\"texto\"].str.len()\n",
    "df_texto[\"len_clean\"] = df_texto[\"texto_limpio_final\"].str.len()\n",
    "df_texto[\"len_diff\"] = df_texto[\"len_raw\"] - df_texto[\"len_clean\"]"
   ]
  },
  {
   "cell_type": "code",
   "execution_count": null,
   "id": "9d4b7e4d",
   "metadata": {},
   "outputs": [],
   "source": [
    "df_texto"
   ]
  },
  {
   "cell_type": "code",
   "execution_count": null,
   "id": "49ad3fbe",
   "metadata": {},
   "outputs": [],
   "source": []
  },
  {
   "cell_type": "markdown",
   "id": "bcbcdc98",
   "metadata": {},
   "source": [
    "### Guardar de resultados\n",
    "\n",
    "Guarda el dataframe df_texto en parquet con `df_texto.to_parquet('archivo.parquet', index=False)`."
   ]
  },
  {
   "cell_type": "code",
   "execution_count": null,
   "id": "d656916d",
   "metadata": {},
   "outputs": [],
   "source": [
    "df_texto.to_parquet(\"../1-data/archivo.parquet\", index=False)"
   ]
  },
  {
   "cell_type": "code",
   "execution_count": null,
   "id": "eb539e8e",
   "metadata": {},
   "outputs": [],
   "source": []
  },
  {
   "cell_type": "markdown",
   "id": "9db86cb8",
   "metadata": {},
   "source": [
    "**Phd. Jose R. Zapata**\n",
    "- [https://joserzapata.github.io/](https://joserzapata.github.io/)\n",
    "- [https://www.linkedin.com/in/jose-ricardo-zapata-gonzalez/](https://www.linkedin.com/in/jose-ricardo-zapata-gonzalez/)"
   ]
  }
 ],
 "metadata": {
  "kernelspec": {
   "display_name": "Python 3",
   "language": "python",
   "name": "python3"
  },
  "language_info": {
   "codemirror_mode": {
    "name": "ipython",
    "version": 3
   },
   "file_extension": ".py",
   "mimetype": "text/x-python",
   "name": "python",
   "nbconvert_exporter": "python",
   "pygments_lexer": "ipython3",
   "version": "undefined.undefined.undefined"
  }
 },
 "nbformat": 4,
 "nbformat_minor": 5
}
